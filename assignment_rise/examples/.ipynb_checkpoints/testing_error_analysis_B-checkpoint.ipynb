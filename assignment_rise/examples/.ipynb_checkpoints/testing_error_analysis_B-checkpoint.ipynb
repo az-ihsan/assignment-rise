{
 "cells": [
  {
   "cell_type": "code",
   "execution_count": 1,
   "id": "6b4dc9d9-a894-4485-b3b6-82166cbb550b",
   "metadata": {},
   "outputs": [
    {
     "name": "stderr",
     "output_type": "stream",
     "text": [
      "/archive/projects/a.ihsan/assignment-rise/.venv/lib/python3.10/site-packages/tqdm/auto.py:21: TqdmWarning: IProgress not found. Please update jupyter and ipywidgets. See https://ipywidgets.readthedocs.io/en/stable/user_install.html\n",
      "  from .autonotebook import tqdm as notebook_tqdm\n",
      "/archive/projects/a.ihsan/assignment-rise/.venv/lib/python3.10/site-packages/transformers/utils/hub.py:123: FutureWarning: Using `TRANSFORMERS_CACHE` is deprecated and will be removed in v5 of Transformers. Use `HF_HOME` instead.\n",
      "  warnings.warn(\n",
      "Resolving data files: 100%|█████████████████████████████████████████████████████████████████████████████████████████████████████████████████████████████████████████| 20/20 [00:00<00:00, 87.77it/s]\n",
      "Resolving data files: 100%|█████████████████████████████████████████████████████████████████████████████████████████████████████████████████████████████████████| 20/20 [00:00<00:00, 105384.52it/s]\n",
      "Resolving data files: 100%|█████████████████████████████████████████████████████████████████████████████████████████████████████████████████████████████████████| 20/20 [00:00<00:00, 102675.74it/s]\n"
     ]
    }
   ],
   "source": [
    "from assignment_rise.utils.nerd_handler import NERDData\n",
    "from assignment_rise.utils.labels import SYSTEM_B_LABELS_ID\n",
    "\n",
    "data = NERDData('en', target_labels_id=SYSTEM_B_LABELS_ID)\n",
    "tokenized_data = data.tokenize_and_align()"
   ]
  },
  {
   "cell_type": "code",
   "execution_count": 2,
   "id": "01feff38-95ed-48d5-b0c2-aa7f9cb187e5",
   "metadata": {},
   "outputs": [
    {
     "name": "stderr",
     "output_type": "stream",
     "text": [
      "Some weights of RobertaForTokenClassification were not initialized from the model checkpoint at roberta-large and are newly initialized: ['classifier.weight', 'classifier.bias']\n",
      "You should probably TRAIN this model on a down-stream task to be able to use it for predictions and inference.\n"
     ]
    }
   ],
   "source": [
    "import torch\n",
    "from transformers import AutoTokenizer\n",
    "from transformers import AutoModelForTokenClassification\n",
    "from peft import PeftConfig, PeftModel, get_peft_model\n",
    "\n",
    "lora_adapter_chkpt = '../lora_system_B/'\n",
    "lora_config = PeftConfig.from_pretrained(lora_adapter_chkpt)\n",
    "\n",
    "model = AutoModelForTokenClassification.from_pretrained(\n",
    "    lora_config.base_model_name_or_path,\n",
    "    device_map='auto', \n",
    "    num_labels=len(data.target_id_labels),\n",
    "    id2label=data.target_id_labels,\n",
    "    label2id=data.target_labels_id\n",
    ")\n",
    "tokenizer = AutoTokenizer.from_pretrained(lora_config.base_model_name_or_path, add_prefix_space=True)\n",
    "lora_model = PeftModel.from_pretrained(model, lora_adapter_chkpt)"
   ]
  },
  {
   "cell_type": "code",
   "execution_count": 3,
   "id": "d4eb3630-6cb9-4e90-b305-a5b271979570",
   "metadata": {},
   "outputs": [
    {
     "name": "stderr",
     "output_type": "stream",
     "text": [
      "Map:   0%|                                                                                                                                                         | 0/32908 [00:00<?, ? examples/s]You're using a RobertaTokenizerFast tokenizer. Please note that with a fast tokenizer, using the `__call__` method is faster than using a method to encode the text followed by a call to the `pad` method to get a padded encoding.\n",
      "Map: 100%|████████████████████████████████████████████████████████████████████████████████████████████████████████████████████████████████████████████| 32908/32908 [01:27<00:00, 374.41 examples/s]\n"
     ]
    }
   ],
   "source": [
    "from torch.nn.functional import cross_entropy\n",
    "from transformers import DataCollatorForTokenClassification\n",
    "\n",
    "data_collator = DataCollatorForTokenClassification(tokenizer)\n",
    "\n",
    "def forward_pass_with_label(batch):\n",
    "    features = [dict(zip(batch, t)) for t in zip(*batch.values())]\n",
    "    batch = data_collator(features)\n",
    "    input_ids = batch['input_ids']\n",
    "    attention_mask = batch['attention_mask']\n",
    "    labels = batch['labels']\n",
    "    with torch.no_grad():\n",
    "        output = lora_model.model(input_ids, attention_mask)\n",
    "        predicted_label = torch.argmax(output.logits, axis=-1).numpy()\n",
    "    loss = cross_entropy(output.logits.view(-1, len(data.target_id_labels)), \n",
    "                        labels.view(-1), reduction='none')\n",
    "    loss = loss.view(len(input_ids), -1).numpy()\n",
    "    return {'loss':loss, 'predicted_label':predicted_label}\n",
    "\n",
    "test_data_analyze=tokenized_data['test'].map(forward_pass_with_label, batched=True, batch_size=32)"
   ]
  },
  {
   "cell_type": "code",
   "execution_count": 4,
   "id": "efc57590-f337-403a-a2c2-266a74e24cfa",
   "metadata": {},
   "outputs": [
    {
     "data": {
      "text/html": [
       "<div>\n",
       "<style scoped>\n",
       "    .dataframe tbody tr th:only-of-type {\n",
       "        vertical-align: middle;\n",
       "    }\n",
       "\n",
       "    .dataframe tbody tr th {\n",
       "        vertical-align: top;\n",
       "    }\n",
       "\n",
       "    .dataframe thead th {\n",
       "        text-align: right;\n",
       "    }\n",
       "</style>\n",
       "<table border=\"1\" class=\"dataframe\">\n",
       "  <thead>\n",
       "    <tr style=\"text-align: right;\">\n",
       "      <th></th>\n",
       "      <th>input_ids</th>\n",
       "      <th>attention_mask</th>\n",
       "      <th>labels</th>\n",
       "      <th>loss</th>\n",
       "      <th>predicted_label</th>\n",
       "      <th>input_tokens</th>\n",
       "    </tr>\n",
       "  </thead>\n",
       "  <tbody>\n",
       "    <tr>\n",
       "      <th>28435</th>\n",
       "      <td>[0, 832, 11204, 2156, 2094, 6945, 2552, 219, 2...</td>\n",
       "      <td>[1, 1, 1, 1, 1, 1, 1, 1, 1, 1, 1, 1, 1, 1, 1, ...</td>\n",
       "      <td>[IGN, O, O, O, B-PER, I-PER, IGN, IGN, O, O, O...</td>\n",
       "      <td>[0.0, 2.503392e-06, 4.5299425e-06, 1.5497195e-...</td>\n",
       "      <td>[O, O, O, O, B-PER, I-PER, I-PER, I-PER, O, O,...</td>\n",
       "      <td>[&lt;s&gt;, ĠHis, Ġcousin, Ġ,, ĠLee, ĠFe, ene, y, Ġ,...</td>\n",
       "    </tr>\n",
       "  </tbody>\n",
       "</table>\n",
       "</div>"
      ],
      "text/plain": [
       "                                               input_ids  \\\n",
       "28435  [0, 832, 11204, 2156, 2094, 6945, 2552, 219, 2...   \n",
       "\n",
       "                                          attention_mask  \\\n",
       "28435  [1, 1, 1, 1, 1, 1, 1, 1, 1, 1, 1, 1, 1, 1, 1, ...   \n",
       "\n",
       "                                                  labels  \\\n",
       "28435  [IGN, O, O, O, B-PER, I-PER, IGN, IGN, O, O, O...   \n",
       "\n",
       "                                                    loss  \\\n",
       "28435  [0.0, 2.503392e-06, 4.5299425e-06, 1.5497195e-...   \n",
       "\n",
       "                                         predicted_label  \\\n",
       "28435  [O, O, O, O, B-PER, I-PER, I-PER, I-PER, O, O,...   \n",
       "\n",
       "                                            input_tokens  \n",
       "28435  [<s>, ĠHis, Ġcousin, Ġ,, ĠLee, ĠFe, ene, y, Ġ,...  "
      ]
     },
     "execution_count": 4,
     "metadata": {},
     "output_type": "execute_result"
    }
   ],
   "source": [
    "df = test_data_analyze.to_pandas()\n",
    "\n",
    "data.target_id_labels[-100] = 'IGN'\n",
    "df['input_tokens'] = df['input_ids'].apply(\n",
    "    lambda x:tokenizer.convert_ids_to_tokens(x))\n",
    "\n",
    "df['predicted_label'] = df['predicted_label'].apply(\n",
    "    lambda x: [data.target_id_labels[i] for i in x])\n",
    "\n",
    "df['labels'] = df['labels'].apply(\n",
    "    lambda x: [data.target_id_labels[i] for i in x])\n",
    "\n",
    "df['loss'] = df.apply(\n",
    "    lambda x: x['loss'][:len(x['input_ids'])], axis=1)\n",
    "\n",
    "df['predicted_label']=df.apply(\n",
    "    lambda x:x['predicted_label'][:len(x['input_ids'])], axis=1)\n",
    "\n",
    "df.sample(1)"
   ]
  },
  {
   "cell_type": "code",
   "execution_count": 5,
   "id": "9c0aca6e-a86a-4c06-88d2-ba947e60f626",
   "metadata": {},
   "outputs": [],
   "source": [
    "import pandas as pd\n",
    "df_tokens = df.apply(pd.Series.explode)"
   ]
  },
  {
   "cell_type": "code",
   "execution_count": 6,
   "id": "e52dc6b4-e2e2-48c8-b417-14600f993b3e",
   "metadata": {},
   "outputs": [
    {
     "data": {
      "text/html": [
       "<div>\n",
       "<style scoped>\n",
       "    .dataframe tbody tr th:only-of-type {\n",
       "        vertical-align: middle;\n",
       "    }\n",
       "\n",
       "    .dataframe tbody tr th {\n",
       "        vertical-align: top;\n",
       "    }\n",
       "\n",
       "    .dataframe thead th {\n",
       "        text-align: right;\n",
       "    }\n",
       "</style>\n",
       "<table border=\"1\" class=\"dataframe\">\n",
       "  <thead>\n",
       "    <tr style=\"text-align: right;\">\n",
       "      <th></th>\n",
       "      <th>input_ids</th>\n",
       "      <th>attention_mask</th>\n",
       "      <th>labels</th>\n",
       "      <th>loss</th>\n",
       "      <th>predicted_label</th>\n",
       "      <th>input_tokens</th>\n",
       "    </tr>\n",
       "  </thead>\n",
       "  <tbody>\n",
       "    <tr>\n",
       "      <th>0</th>\n",
       "      <td>832</td>\n",
       "      <td>1</td>\n",
       "      <td>O</td>\n",
       "      <td>0.0</td>\n",
       "      <td>O</td>\n",
       "      <td>ĠHis</td>\n",
       "    </tr>\n",
       "    <tr>\n",
       "      <th>0</th>\n",
       "      <td>1150</td>\n",
       "      <td>1</td>\n",
       "      <td>O</td>\n",
       "      <td>0.0</td>\n",
       "      <td>O</td>\n",
       "      <td>Ġfather</td>\n",
       "    </tr>\n",
       "    <tr>\n",
       "      <th>0</th>\n",
       "      <td>21</td>\n",
       "      <td>1</td>\n",
       "      <td>O</td>\n",
       "      <td>0.0</td>\n",
       "      <td>O</td>\n",
       "      <td>Ġwas</td>\n",
       "    </tr>\n",
       "    <tr>\n",
       "      <th>0</th>\n",
       "      <td>10</td>\n",
       "      <td>1</td>\n",
       "      <td>O</td>\n",
       "      <td>0.0</td>\n",
       "      <td>O</td>\n",
       "      <td>Ġa</td>\n",
       "    </tr>\n",
       "    <tr>\n",
       "      <th>0</th>\n",
       "      <td>2658</td>\n",
       "      <td>1</td>\n",
       "      <td>O</td>\n",
       "      <td>0.0</td>\n",
       "      <td>O</td>\n",
       "      <td>Ġsurvey</td>\n",
       "    </tr>\n",
       "    <tr>\n",
       "      <th>0</th>\n",
       "      <td>8</td>\n",
       "      <td>1</td>\n",
       "      <td>O</td>\n",
       "      <td>0.0</td>\n",
       "      <td>O</td>\n",
       "      <td>Ġand</td>\n",
       "    </tr>\n",
       "    <tr>\n",
       "      <th>0</th>\n",
       "      <td>40128</td>\n",
       "      <td>1</td>\n",
       "      <td>O</td>\n",
       "      <td>0.0</td>\n",
       "      <td>O</td>\n",
       "      <td>Ġtavern</td>\n",
       "    </tr>\n",
       "  </tbody>\n",
       "</table>\n",
       "</div>"
      ],
      "text/plain": [
       "  input_ids attention_mask labels  loss predicted_label input_tokens\n",
       "0       832              1      O   0.0               O         ĠHis\n",
       "0      1150              1      O   0.0               O      Ġfather\n",
       "0        21              1      O   0.0               O         Ġwas\n",
       "0        10              1      O   0.0               O           Ġa\n",
       "0      2658              1      O   0.0               O      Ġsurvey\n",
       "0         8              1      O   0.0               O         Ġand\n",
       "0     40128              1      O   0.0               O      Ġtavern"
      ]
     },
     "execution_count": 6,
     "metadata": {},
     "output_type": "execute_result"
    }
   ],
   "source": [
    "df_tokens = df_tokens.query(\"labels != 'IGN'\")\n",
    "df_tokens['loss'] = df_tokens['loss'].astype(float).round(2)\n",
    "df_tokens.head(7)"
   ]
  },
  {
   "cell_type": "code",
   "execution_count": 9,
   "id": "1142ed1f-c90e-47af-b623-0d00bd4a3532",
   "metadata": {},
   "outputs": [
    {
     "data": {
      "image/png": "[encoded data removed]",
      "text/plain": [
       "<Figure size 1000x1000 with 1 Axes>"
      ]
     },
     "metadata": {},
     "output_type": "display_data"
    }
   ],
   "source": [
    "from sklearn.metrics import ConfusionMatrixDisplay, confusion_matrix \n",
    "import matplotlib.pyplot as plt\n",
    "\n",
    "def plot_confusion_matrix(y_preds, y_true, labels):\n",
    "    cm = confusion_matrix(y_true, y_preds, normalize='true')\n",
    "    fig, ax = plt.subplots(figsize=(10,10))\n",
    "    disp = ConfusionMatrixDisplay(confusion_matrix=cm, display_labels=labels)\n",
    "    disp.plot(cmap='Blues', values_format='.2f', ax=ax, colorbar=False)\n",
    "    plt.title('Normalized confusion matrix')\n",
    "    plt.show()\n",
    "\n",
    "plot_confusion_matrix(df_tokens['labels'], df_tokens['predicted_label'], data.target_labels_list)"
   ]
  },
  {
   "cell_type": "markdown",
   "id": "b7e4d172-3a44-44e7-aa19-9e57cf8c1620",
   "metadata": {},
   "source": [
    "The confusion matrix shows that the model confuses the I-DIS, B-PER, B-LOC and I-LOC entities."
   ]
  },
  {
   "cell_type": "code",
   "execution_count": 10,
   "id": "395cf3ba-bead-42dc-8001-da4daad2ae59",
   "metadata": {},
   "outputs": [
    {
     "data": {
      "text/html": [
       "<div>\n",
       "<style scoped>\n",
       "    .dataframe tbody tr th:only-of-type {\n",
       "        vertical-align: middle;\n",
       "    }\n",
       "\n",
       "    .dataframe tbody tr th {\n",
       "        vertical-align: top;\n",
       "    }\n",
       "\n",
       "    .dataframe thead th {\n",
       "        text-align: right;\n",
       "    }\n",
       "</style>\n",
       "<table border=\"1\" class=\"dataframe\">\n",
       "  <thead>\n",
       "    <tr style=\"text-align: right;\">\n",
       "      <th></th>\n",
       "      <th>0</th>\n",
       "      <th>1</th>\n",
       "      <th>2</th>\n",
       "      <th>3</th>\n",
       "      <th>4</th>\n",
       "      <th>5</th>\n",
       "      <th>6</th>\n",
       "      <th>7</th>\n",
       "      <th>8</th>\n",
       "      <th>9</th>\n",
       "      <th>10</th>\n",
       "    </tr>\n",
       "  </thead>\n",
       "  <tbody>\n",
       "    <tr>\n",
       "      <th>labels</th>\n",
       "      <td>I-DIS</td>\n",
       "      <td>B-DIS</td>\n",
       "      <td>I-ANIM</td>\n",
       "      <td>B-ANIM</td>\n",
       "      <td>B-ORG</td>\n",
       "      <td>I-LOC</td>\n",
       "      <td>I-ORG</td>\n",
       "      <td>B-LOC</td>\n",
       "      <td>B-PER</td>\n",
       "      <td>O</td>\n",
       "      <td>I-PER</td>\n",
       "    </tr>\n",
       "    <tr>\n",
       "      <th>count</th>\n",
       "      <td>1004</td>\n",
       "      <td>1518</td>\n",
       "      <td>1852</td>\n",
       "      <td>3208</td>\n",
       "      <td>6618</td>\n",
       "      <td>11926</td>\n",
       "      <td>9162</td>\n",
       "      <td>24048</td>\n",
       "      <td>10530</td>\n",
       "      <td>612724</td>\n",
       "      <td>11460</td>\n",
       "    </tr>\n",
       "    <tr>\n",
       "      <th>mean</th>\n",
       "      <td>1.07</td>\n",
       "      <td>0.68</td>\n",
       "      <td>0.62</td>\n",
       "      <td>0.62</td>\n",
       "      <td>0.05</td>\n",
       "      <td>0.03</td>\n",
       "      <td>0.02</td>\n",
       "      <td>0.02</td>\n",
       "      <td>0.02</td>\n",
       "      <td>0.01</td>\n",
       "      <td>0.0</td>\n",
       "    </tr>\n",
       "    <tr>\n",
       "      <th>sum</th>\n",
       "      <td>1070.26</td>\n",
       "      <td>1030.38</td>\n",
       "      <td>1149.68</td>\n",
       "      <td>1983.0</td>\n",
       "      <td>326.78</td>\n",
       "      <td>314.38</td>\n",
       "      <td>211.54</td>\n",
       "      <td>531.74</td>\n",
       "      <td>191.44</td>\n",
       "      <td>4621.14</td>\n",
       "      <td>46.16</td>\n",
       "    </tr>\n",
       "  </tbody>\n",
       "</table>\n",
       "</div>"
      ],
      "text/plain": [
       "             0        1        2       3       4       5       6       7   \\\n",
       "labels    I-DIS    B-DIS   I-ANIM  B-ANIM   B-ORG   I-LOC   I-ORG   B-LOC   \n",
       "count      1004     1518     1852    3208    6618   11926    9162   24048   \n",
       "mean       1.07     0.68     0.62    0.62    0.05    0.03    0.02    0.02   \n",
       "sum     1070.26  1030.38  1149.68  1983.0  326.78  314.38  211.54  531.74   \n",
       "\n",
       "            8        9      10  \n",
       "labels   B-PER        O  I-PER  \n",
       "count    10530   612724  11460  \n",
       "mean      0.02     0.01    0.0  \n",
       "sum     191.44  4621.14  46.16  "
      ]
     },
     "execution_count": 10,
     "metadata": {},
     "output_type": "execute_result"
    }
   ],
   "source": [
    "(df_tokens.groupby('labels')[['loss']].agg(['count', 'mean', 'sum']).droplevel(level=0, axis=1).sort_values(by='mean', ascending=False).reset_index().round(2).T)"
   ]
  },
  {
   "cell_type": "markdown",
   "id": "a593fd77-c114-4b3f-a1f2-8749a20097ab",
   "metadata": {},
   "source": [
    "Given the table above, the model finds it challenging to predict the inside of the disease entity (I-DIS)"
   ]
  },
  {
   "cell_type": "code",
   "execution_count": null,
   "id": "9a0fd050-15b0-48eb-86a0-e9f811042ea6",
   "metadata": {},
   "outputs": [],
   "source": []
  }
 ],
 "metadata": {
  "kernelspec": {
   "display_name": "Python 3 (ipykernel)",
   "language": "python",
   "name": "python3"
  },
  "language_info": {
   "codemirror_mode": {
    "name": "ipython",
    "version": 3
   },
   "file_extension": ".py",
   "mimetype": "text/x-python",
   "name": "python",
   "nbconvert_exporter": "python",
   "pygments_lexer": "ipython3",
   "version": "3.10.2"
  }
 },
 "nbformat": 4,
 "nbformat_minor": 5
}
